{
 "cells": [
  {
   "cell_type": "code",
   "execution_count": 9,
   "id": "c714e0e9",
   "metadata": {},
   "outputs": [
    {
     "name": "stderr",
     "output_type": "stream",
     "text": [
      "INFO    | twsc.utils.log            | Logging is set up with level: INFO\n"
     ]
    }
   ],
   "source": [
    "import time\n",
    "from pprint import pprint\n",
    "\n",
    "from twsc import IBKRClient, setup_logging\n",
    "\n",
    "setup_logging()\n"
   ]
  },
  {
   "cell_type": "code",
   "execution_count": null,
   "id": "c926dbc5",
   "metadata": {},
   "outputs": [
    {
     "name": "stderr",
     "output_type": "stream",
     "text": [
      "INFO    | twsc.client               | Initialized modular IBKRClient with timezone: Asia/Bangkok\n",
      "INFO    | twsc.mixin.connection     | Started API thread for client ID 5\n",
      "INFO    | twsc.mixin.connection     | ✅ Client 5: successfully connected to TWS/Gateway in 0.00s\n",
      "INFO    | twsc.mixin.connection     | Next Valid Order ID: 1\n",
      "INFO    | twsc.mixin.connection     | Info 2104: Market data farm connection is OK:usfarm.nj\n",
      "INFO    | twsc.mixin.connection     | Info 2104: Market data farm connection is OK:usfuture\n",
      "INFO    | twsc.mixin.connection     | Info 2104: Market data farm connection is OK:cashfarm\n",
      "INFO    | twsc.mixin.connection     | Info 2104: Market data farm connection is OK:usopt\n",
      "INFO    | twsc.mixin.connection     | Info 2104: Market data farm connection is OK:usfarm\n",
      "INFO    | twsc.mixin.connection     | Info 2106: HMDS data farm connection is OK:ushmds\n",
      "INFO    | twsc.mixin.connection     | Info 2158: Sec-def data farm connection is OK:secdefil\n",
      "INFO    | twsc.mixin.connection     | Disconnecting from TWS/Gateway\n"
     ]
    },
    {
     "name": "stdout",
     "output_type": "stream",
     "text": [
      "================================================================================\n",
      "Connection Status:\n",
      "{'api_thread_alive': True,\n",
      " 'config': {'client_id': 5,\n",
      "            'host': '127.0.0.1',\n",
      "            'max_retries': 3,\n",
      "            'port': 7497,\n",
      "            'retry_delay': 1.0,\n",
      "            'timeout': 10},\n",
      " 'eclient_connected': True,\n",
      " 'is_connected': True,\n",
      " 'next_valid_id': 1}\n",
      "================================================================================\n"
     ]
    },
    {
     "name": "stderr",
     "output_type": "stream",
     "text": [
      "INFO    | twsc.mixin.connection     | API thread terminated cleanly\n",
      "INFO    | twsc.mixin.connection     | ⛓️‍💥 Disconnected successfully\n"
     ]
    }
   ],
   "source": [
    "client = IBKRClient(client_id=5)  # use default settings 127.0.0.1:7497, clientId=0\n",
    "client.connect_to_tws()\n",
    "time.sleep(1)  # wait for connection to establish\n",
    "\n",
    "# Print connection status\n",
    "print(\"=\" * 80)\n",
    "print(\"Connection Status:\")\n",
    "pprint(client.get_connection_status())\n",
    "print(\"=\" * 80)\n",
    "time.sleep(1)  # wait for a moment\n",
    "\n",
    "client.disconnect_from_tws()"
   ]
  }
 ],
 "metadata": {
  "kernelspec": {
   "display_name": "ibkr_trading",
   "language": "python",
   "name": "python3"
  },
  "language_info": {
   "codemirror_mode": {
    "name": "ipython",
    "version": 3
   },
   "file_extension": ".py",
   "mimetype": "text/x-python",
   "name": "python",
   "nbconvert_exporter": "python",
   "pygments_lexer": "ipython3",
   "version": "3.12.8"
  }
 },
 "nbformat": 4,
 "nbformat_minor": 5
}
