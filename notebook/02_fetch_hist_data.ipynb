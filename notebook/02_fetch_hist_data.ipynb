{
 "cells": [
  {
   "cell_type": "code",
   "execution_count": 3,
   "id": "c0abb8c3",
   "metadata": {},
   "outputs": [
    {
     "name": "stderr",
     "output_type": "stream",
     "text": [
      "INFO    | __main__                  | Logging is set up with level: INFO\n",
      "INFO    | twsc.client               | Initialized modular IBKRClient with timezone: Asia/Bangkok\n",
      "INFO    | twsc.mixin.connection     | Started API thread for client ID 1\n",
      "INFO    | twsc.mixin.connection     | ✅ Client 1: successfully connected to TWS/Gateway in 0.01s\n",
      "INFO    | twsc.mixin.connection     | Next Valid Order ID: 3\n",
      "INFO    | twsc.mixin.connection     | Info 2104: Market data farm connection is OK:hfarm\n",
      "INFO    | twsc.mixin.connection     | Info 2104: Market data farm connection is OK:eufarmnj\n",
      "INFO    | twsc.mixin.connection     | Info 2104: Market data farm connection is OK:cashfarm\n",
      "INFO    | twsc.mixin.connection     | Info 2104: Market data farm connection is OK:usfuture\n",
      "INFO    | twsc.mixin.connection     | Info 2104: Market data farm connection is OK:usopt.nj\n",
      "INFO    | twsc.mixin.connection     | Info 2104: Market data farm connection is OK:jfarm\n",
      "INFO    | twsc.mixin.connection     | Info 2104: Market data farm connection is OK:usfarm.nj\n",
      "INFO    | twsc.mixin.connection     | Info 2104: Market data farm connection is OK:usfarm\n",
      "INFO    | twsc.mixin.connection     | Info 2104: Market data farm connection is OK:usopt\n",
      "INFO    | twsc.mixin.connection     | Info 2106: HMDS data farm connection is OK:euhmds\n",
      "INFO    | twsc.mixin.connection     | Info 2106: HMDS data farm connection is OK:fundfarm\n",
      "INFO    | twsc.mixin.connection     | Info 2106: HMDS data farm connection is OK:ushmds\n",
      "INFO    | twsc.mixin.connection     | Info 2158: Sec-def data farm connection is OK:secdefil\n",
      "INFO    | twsc.cache                | Data loaded from cache: .ibtrade_cache\\5_mins\\AAPL_SMART_TRADES_USD_HISTORICAL.parquet\n",
      "INFO    | twsc.mixin.historical     | Returning cached data for AAPL - cache covers requested timeframe\n",
      "INFO    | twsc.client               | Cleaning up IBKRClient resources\n",
      "INFO    | twsc.mixin.connection     | Disconnecting from TWS/Gateway\n",
      "INFO    | twsc.mixin.connection     | API thread terminated cleanly\n",
      "INFO    | twsc.mixin.connection     | ⛓️‍💥 Disconnected successfully\n",
      "INFO    | twsc.client               | IBKRClient cleanup complete\n"
     ]
    },
    {
     "name": "stdout",
     "output_type": "stream",
     "text": [
      "================================================================================\n",
      "Market Data for AAPL:\n",
      "                             open    high     low   close     volume      wap  bar_count\n",
      "date                                                                                    \n",
      "2025-07-11 20:30:00+07:00  210.43  211.03  209.88  210.72  1795220.0  210.522     7093.0\n",
      "2025-07-11 20:35:00+07:00  210.72  210.87  209.99  210.38   652554.0  210.360     3659.0\n",
      "2025-07-11 20:40:00+07:00  210.38  210.39  209.86  210.19   561037.0  210.060     3318.0\n",
      "2025-07-11 20:45:00+07:00  210.18  210.67  209.86  210.57   555737.0  210.180     3197.0\n",
      "2025-07-11 20:50:00+07:00  210.56  210.80  210.43  210.69   355376.0  210.632     2277.0\n",
      "...                           ...     ...     ...     ...        ...      ...        ...\n",
      "2025-07-12 02:35:00+07:00  211.15  211.21  211.06  211.16   171399.0  211.147      852.0\n",
      "2025-07-12 02:40:00+07:00  211.17  211.23  211.02  211.09   188588.0  211.131     1005.0\n",
      "2025-07-12 02:45:00+07:00  211.08  211.21  211.03  211.19   152600.0  211.113      919.0\n",
      "2025-07-12 02:50:00+07:00  211.19  211.41  211.05  211.28   520287.0  211.219     3297.0\n",
      "2025-07-12 02:55:00+07:00  211.30  211.41  211.01  211.08  2047490.0  211.135    11465.0\n",
      "\n",
      "[78 rows x 7 columns]\n"
     ]
    }
   ],
   "source": [
    "import time\n",
    "import pandas as pd\n",
    "\n",
    "from twsc import IBKRClient, setup_logging, Contract\n",
    "\n",
    "logger = setup_logging(__name__)\n",
    "pd.set_option('display.width', 200)\n",
    "\n",
    "# use context manager to automatically handle connection and disconnection\n",
    "with IBKRClient() as client:\n",
    "    # Define a contract for the stock you want to trade\n",
    "    contract = Contract.stock(symbol='AAPL')\n",
    "\n",
    "    try:\n",
    "        # Request market data with automatic waiting for data and save to cache\n",
    "        market_data = client.get_historical_data(contract, bar_size=\"5 mins\", timeout=60)\n",
    "    except Exception as e:\n",
    "        logger.critical(f\"Error fetching market data: {e}\")\n",
    "        market_data = pd.DataFrame()  # Fallback to empty DataFrame if error occurs\n",
    "    \n",
    "print(\"=\" * 80)\n",
    "print(f\"Market Data for {contract.symbol}:\")\n",
    "print(market_data)"
   ]
  }
 ],
 "metadata": {
  "kernelspec": {
   "display_name": "ibkr_trading",
   "language": "python",
   "name": "python3"
  },
  "language_info": {
   "codemirror_mode": {
    "name": "ipython",
    "version": 3
   },
   "file_extension": ".py",
   "mimetype": "text/x-python",
   "name": "python",
   "nbconvert_exporter": "python",
   "pygments_lexer": "ipython3",
   "version": "3.12.8"
  }
 },
 "nbformat": 4,
 "nbformat_minor": 5
}
